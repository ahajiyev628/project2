{
  "nbformat": 4,
  "nbformat_minor": 0,
  "metadata": {
    "colab": {
      "name": "Untitled6.ipynb",
      "provenance": [],
      "collapsed_sections": [],
      "authorship_tag": "ABX9TyO1df2jhNg3WGorozJUlfPZ",
      "include_colab_link": true
    },
    "kernelspec": {
      "name": "python3",
      "display_name": "Python 3"
    },
    "language_info": {
      "name": "python"
    }
  },
  "cells": [
    {
      "cell_type": "markdown",
      "metadata": {
        "id": "view-in-github",
        "colab_type": "text"
      },
      "source": [
        "<a href=\"https://colab.research.google.com/github/ahajiyev628/project2/blob/main/project2.ipynb\" target=\"_parent\"><img src=\"https://colab.research.google.com/assets/colab-badge.svg\" alt=\"Open In Colab\"/></a>"
      ]
    },
    {
      "cell_type": "code",
      "metadata": {
        "id": "36QMyP2mhCvK"
      },
      "source": [
        "# import csv\n",
        "import csv\n",
        "\n",
        "# open csv file\n",
        "with open('train.csv', newline='') as train:\n",
        "\n",
        "  # read the csv file\n",
        "  train_csv = csv.reader(csvfile, delimiter=' ', quotechar='|')\n",
        "\n",
        "  # print the headers \n",
        "  for row in train_csv:\n",
        "    print(', '.join(row))"
      ],
      "execution_count": null,
      "outputs": []
    },
    {
      "cell_type": "code",
      "metadata": {
        "id": "4L3Ud_1IhRbE"
      },
      "source": [
        "# another method for reading csv\n",
        "import pandas as pd\n",
        "\n",
        "# read the csv\n",
        "data = pd.read_csv('train.csv')\n",
        "\n",
        "# check first 5 rows\n",
        "data.head()\n",
        "\n",
        "# check the dimensions \n",
        "data.shape\n",
        "\n",
        "# see the column names\n",
        "data.columns\n",
        "\n",
        "# removing null values to avoid errors \n",
        "data.dropna(inplace = True) \n",
        "\n",
        "#describe label column\n",
        "desc = data[\"label\"].describe()\n",
        "desc"
      ],
      "execution_count": null,
      "outputs": []
    },
    {
      "cell_type": "code",
      "metadata": {
        "id": "RQ97Wym9hEAu"
      },
      "source": [
        "#Import JSON module\n",
        "import json\n",
        "\n",
        "# read the csv file\n",
        "train_csv = csv.reader(csvfile, delimiter=' ', quotechar='|')\n",
        "\n",
        "# convert csv to json\n",
        "json.dumps(train_csv)\n",
        "\n",
        "#another method\n",
        "with open(\"project2.json\",\"w\") as json_file:\n",
        "    json.dump(train_csv, json_file)\n",
        "json_file.close()"
      ],
      "execution_count": null,
      "outputs": []
    }
  ]
}